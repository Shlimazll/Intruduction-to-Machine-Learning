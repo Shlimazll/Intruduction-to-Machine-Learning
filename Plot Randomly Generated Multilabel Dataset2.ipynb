{
 "cells": [
  {
   "cell_type": "code",
   "execution_count": 13,
   "id": "26d2c52d",
   "metadata": {},
   "outputs": [
    {
     "data": {
      "image/png": "[encoded data removed]",
      "text/plain": [
       "<Figure size 720x432 with 2 Axes>"
      ]
     },
     "metadata": {
      "needs_background": "light"
     },
     "output_type": "display_data"
    },
    {
     "name": "stdout",
     "output_type": "stream",
     "text": [
      "The data was generated from (random_state=4157388):\n",
      "Class\tP(C)\tP(w0|C)\tP(w1|C)\n",
      "red\t0.35\t0.83\t0.17\n",
      "blue\t0.38\t0.37\t0.63\n",
      "yellow\t0.27\t0.56\t0.44\n"
     ]
    }
   ],
   "source": [
    "import numpy as np\n",
    "import matplotlib.pyplot as plt\n",
    "\n",
    "from sklearn.datasets import make_multilabel_classification as make_ml_clf\n",
    "\n",
    "COLORS = np.array(\n",
    "    [\n",
    "        \"!\",\n",
    "        \"#FF3333\",  # red\n",
    "        \"#0198E1\",  # blue\n",
    "        \"#BF5FFF\",  # purple\n",
    "        \"#FCD116\",  # yellow\n",
    "        \"#FF7216\",  # orange\n",
    "        \"#4DBD33\",  # green\n",
    "        \"#87421F\",  # brown\n",
    "    ]\n",
    ")\n",
    "\n",
    "# Use same random seed for multiple calls to make_multilabel_classification to\n",
    "# ensure same distributions\n",
    "RANDOM_SEED = np.random.randint(3**15)\n",
    "\n",
    "\n",
    "def plot_2d(ax, n_labels=1, n_classes=3, length=50):\n",
    "    X, Y, p_c, p_w_c = make_ml_clf(\n",
    "        n_samples=150,\n",
    "        n_features=2,\n",
    "        n_classes=n_classes,\n",
    "        n_labels=n_labels,\n",
    "        length=length,\n",
    "        allow_unlabeled=False,\n",
    "        return_distributions=True,\n",
    "        random_state=RANDOM_SEED,\n",
    "    )\n",
    "\n",
    "    ax.scatter(\n",
    "        X[:, 0], X[:, 1], color=COLORS.take((Y * [1, 2, 4]).sum(axis=1)), marker=\"+\"\n",
    "    )\n",
    "    ax.scatter(\n",
    "        p_w_c[0] * length,\n",
    "        p_w_c[1] * length,\n",
    "        marker=\"*\",\n",
    "        linewidth=0.5,\n",
    "        edgecolor=\"black\",\n",
    "        s=20 + 1500 * p_c**2,\n",
    "        color=COLORS.take([3, 5, 1]),\n",
    "    )\n",
    "    ax.set_xlabel(\"Feature 0 count\")\n",
    "    return p_c, p_w_c\n",
    "_, (ax1, ax2) = plt.subplots(1, 2, sharex=\"row\", sharey=\"row\", figsize=(10, 6))\n",
    "plt.subplots_adjust(bottom=0.15)\n",
    "\n",
    "p_c, p_w_c = plot_2d(ax1, n_labels=1)\n",
    "ax1.set_title(\"n_labels=1, length=50\")\n",
    "ax1.set_ylabel(\"Feature 1 count\")\n",
    "\n",
    "plot_2d(ax2, n_labels=3)\n",
    "ax2.set_title(\"n_labels=3, length=50\")\n",
    "ax2.set_xlim(left=0, auto=True)\n",
    "ax2.set_ylim(bottom=0, auto=True)\n",
    "\n",
    "plt.show()\n",
    "\n",
    "print(\"The data was generated from (random_state=%d):\" % RANDOM_SEED)\n",
    "print(\"Class\", \"P(C)\", \"P(w0|C)\", \"P(w1|C)\", sep=\"\\t\")\n",
    "for k, p, p_w in zip([\"red\", \"blue\", \"yellow\"], p_c, p_w_c.T):\n",
    "    print(\"%s\\t%0.2f\\t%0.2f\\t%0.2f\" % (k, p, p_w[0], p_w[1]))"
   ]
  }
 ],
 "metadata": {
  "kernelspec": {
   "display_name": "Python 3 (ipykernel)",
   "language": "python",
   "name": "python3"
  },
  "language_info": {
   "codemirror_mode": {
    "name": "ipython",
    "version": 3
   },
   "file_extension": ".py",
   "mimetype": "text/x-python",
   "name": "python",
   "nbconvert_exporter": "python",
   "pygments_lexer": "ipython3",
   "version": "3.9.7"
  }
 },
 "nbformat": 4,
 "nbformat_minor": 5
}
