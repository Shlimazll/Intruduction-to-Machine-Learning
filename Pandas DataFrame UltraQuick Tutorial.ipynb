{
 "cells": [
  {
   "cell_type": "code",
   "execution_count": 53,
   "id": "af91ffaf",
   "metadata": {},
   "outputs": [],
   "source": [
    "import numpy as np\n",
    "import pandas as pd\n",
    "df = pd.DataFrame"
   ]
  },
  {
   "cell_type": "code",
   "execution_count": 54,
   "id": "0d714224",
   "metadata": {},
   "outputs": [
    {
     "name": "stdout",
     "output_type": "stream",
     "text": [
      "   temperature  activity\n",
      "0            0         3\n",
      "1           10         7\n",
      "2           20         9\n",
      "3           30        14\n",
      "4           40        15\n"
     ]
    }
   ],
   "source": [
    "#The following code cell instantiates a pd.DataFrame class to generate a DataFrame. The class takes two arguments:\n",
    "#The first argument provides the data to populate the 10 cells. The code cell calls np.array to generate the 5x2 NumPy array.\n",
    "#The second argument identifies the names of the two columns.\n",
    "\n",
    "# Create and populate a 5x2 NumPy array.\n",
    "my_data = np.array([[0, 3], [10, 7], [20, 9], [30, 14], [40, 15]])\n",
    "\n",
    "# Create a Python list that holds the names of the two columns.\n",
    "my_column_names = ['temperature', 'activity']\n",
    "\n",
    "# Create a DataFrame.\n",
    "my_dataframe = pd.DataFrame(data=my_data, columns=my_column_names)\n",
    "\n",
    "# Print the entire DataFrame\n",
    "print(my_dataframe)"
   ]
  },
  {
   "cell_type": "code",
   "execution_count": 55,
   "id": "3b3d47f1",
   "metadata": {},
   "outputs": [
    {
     "name": "stdout",
     "output_type": "stream",
     "text": [
      "   temperature  activity  adjusted\n",
      "0            0         3         5\n",
      "1           10         7         9\n",
      "2           20         9        11\n",
      "3           30        14        16\n",
      "4           40        15        17\n"
     ]
    }
   ],
   "source": [
    "#Adding a new column to a DataFrame\n",
    "\n",
    "# Create a new column named adjusted.\n",
    "my_dataframe[\"adjusted\"] = my_dataframe[\"activity\"] + 2\n",
    "\n",
    "# Print the entire DataFrame\n",
    "print(my_dataframe)"
   ]
  },
  {
   "cell_type": "code",
   "execution_count": 56,
   "id": "89028975",
   "metadata": {},
   "outputs": [
    {
     "name": "stdout",
     "output_type": "stream",
     "text": [
      "Rows #0, #1, and #2:\n",
      "   temperature  activity  adjusted\n",
      "0            0         3         5\n",
      "1           10         7         9\n",
      "2           20         9        11 \n",
      "\n",
      "Row #2:\n",
      "   temperature  activity  adjusted\n",
      "2           20         9        11 \n",
      "\n",
      "Rows #1, #2, and #3:\n",
      "   temperature  activity  adjusted\n",
      "1           10         7         9\n",
      "2           20         9        11\n",
      "3           30        14        16 \n",
      "\n",
      "Column 'temperature':\n",
      "0     0\n",
      "1    10\n",
      "2    20\n",
      "3    30\n",
      "4    40\n",
      "Name: temperature, dtype: int32\n"
     ]
    }
   ],
   "source": [
    "#Specifying a subset of a DataFrame\n",
    "\n",
    "print(\"Rows #0, #1, and #2:\")\n",
    "print(my_dataframe.head(3), '\\n')\n",
    "\n",
    "print(\"Row #2:\")\n",
    "print(my_dataframe.iloc[[2]], '\\n')\n",
    "\n",
    "print(\"Rows #1, #2, and #3:\")\n",
    "print(my_dataframe[1:4], '\\n')\n",
    "\n",
    "print(\"Column 'temperature':\")\n",
    "print(my_dataframe['temperature'])"
   ]
  },
  {
   "cell_type": "code",
   "execution_count": 59,
   "id": "724ea46f",
   "metadata": {},
   "outputs": [
    {
     "name": "stdout",
     "output_type": "stream",
     "text": [
      "   Jason  Chidi  Tahani  Eleanor\n",
      "0     42     17       8       18\n",
      "1     60     33      95       96\n",
      "2     90     16      14       91 \n",
      "\n",
      "Second row of the Eleanor column: 96\n",
      "\n",
      "Column 'janet':\n",
      " 0     50\n",
      "1    155\n",
      "2    104\n",
      "Name: janet, dtype: int32\n"
     ]
    }
   ],
   "source": [
    "my_data = np.random.randint(low=0, high=101, size=(3, 4))\n",
    "\n",
    "my_column_names = ['Jason', 'Chidi', 'Tahani', 'Eleanor']\n",
    "\n",
    "md = pd.DataFrame(data=my_data, columns=my_column_names)\n",
    "\n",
    "#the entire DataFrame:\n",
    "print(md, '\\n')\n",
    "\n",
    "#the value in the cell of row #1 of the Eleanor column:\n",
    "#my_data2 = md.iloc[[1]]\n",
    "#my_column_name2 = ['Eleanor']\n",
    "#md2 = pd.DataFrame(data=my_data2, columns=my_column_name2)\n",
    "#print(md2['Eleanor'],'\\n')\n",
    "\n",
    "#or:\n",
    "print(\"Second row of the Eleanor column: %d\\n\" % md['Eleanor'][1])\n",
    "\n",
    "#Create a fifth column named Janet, which is populated with the row-by-row sums of Tahani and Jason:\n",
    "md['janet'] = md['Tahani'] + md['Jason']\n",
    "print(\"Column 'janet':\\n\",md['janet'])"
   ]
  },
  {
   "cell_type": "code",
   "execution_count": 58,
   "id": "2272352e",
   "metadata": {},
   "outputs": [
    {
     "name": "stdout",
     "output_type": "stream",
     "text": [
      "Experiment with a reference:\n",
      "  Starting value of my_dataframe: 9\n",
      "  Starting value of reference_to_df: 9\n",
      "\n",
      "  Updated df: 14\n",
      "  Updated reference_to_df: 14\n",
      "\n",
      "\n",
      "Experiment with a true copy:\n",
      "  Starting value of my_dataframe: 7\n",
      "  Starting value of copy_of_my_dataframe: 7\n",
      "\n",
      "  Updated my_dataframe: 10\n",
      "  copy_of_my_dataframe does not get updated: 7\n"
     ]
    }
   ],
   "source": [
    "# Create a reference by assigning my_dataframe to a new variable.\n",
    "print(\"Experiment with a reference:\")\n",
    "reference_to_md = md\n",
    "\n",
    "# Print the starting value of a particular cell.\n",
    "print(\"  Starting value of my_dataframe: %d\" % md['Jason'][1])\n",
    "print(\"  Starting value of reference_to_df: %d\\n\" % reference_to_md['Jason'][1])\n",
    "\n",
    "# Modify a cell in df.\n",
    "md.at[1, 'Jason'] = md['Jason'][1] + 5\n",
    "print(\"  Updated df: %d\" % md['Jason'][1])\n",
    "print(\"  Updated reference_to_df: %d\\n\\n\" % reference_to_md['Jason'][1])\n",
    "\n",
    "# Create a true copy of my_dataframe\n",
    "print(\"Experiment with a true copy:\")\n",
    "copy_of_my_dataframe = my_dataframe.copy()\n",
    "\n",
    "# Print the starting value of a particular cell.\n",
    "print(\"  Starting value of my_dataframe: %d\" % my_dataframe['activity'][1])\n",
    "print(\"  Starting value of copy_of_my_dataframe: %d\\n\" % copy_of_my_dataframe['activity'][1])\n",
    "\n",
    "# Modify a cell in df.\n",
    "my_dataframe.at[1, 'activity'] = my_dataframe['activity'][1] + 3\n",
    "print(\"  Updated my_dataframe: %d\" % my_dataframe['activity'][1])\n",
    "print(\"  copy_of_my_dataframe does not get updated: %d\" % copy_of_my_dataframe['activity'][1])"
   ]
  },
  {
   "cell_type": "code",
   "execution_count": null,
   "id": "423a8f3e",
   "metadata": {},
   "outputs": [],
   "source": []
  },
  {
   "cell_type": "code",
   "execution_count": null,
   "id": "9892173b",
   "metadata": {},
   "outputs": [],
   "source": []
  }
 ],
 "metadata": {
  "kernelspec": {
   "display_name": "Python 3 (ipykernel)",
   "language": "python",
   "name": "python3"
  },
  "language_info": {
   "codemirror_mode": {
    "name": "ipython",
    "version": 3
   },
   "file_extension": ".py",
   "mimetype": "text/x-python",
   "name": "python",
   "nbconvert_exporter": "python",
   "pygments_lexer": "ipython3",
   "version": "3.9.7"
  }
 },
 "nbformat": 4,
 "nbformat_minor": 5
}
